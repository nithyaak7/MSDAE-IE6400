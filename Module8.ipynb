{
 "cells": [
  {
   "cell_type": "markdown",
   "metadata": {},
   "source": [
    "## Week 8: Hands On Session Lab"
   ]
  },
  {
   "cell_type": "markdown",
   "metadata": {},
   "source": [
    "Using this Jupyter Notebook, practice along with tasks below:\n",
    "- Run the below code to include all the functions to calculate permutation entropy and complexity\n"
   ]
  },
  {
   "cell_type": "code",
   "execution_count": 1,
   "metadata": {},
   "outputs": [],
   "source": [
    "''' This module has essential functions supporting\n",
    "fast and effective computation of permutation entropy and\n",
    "its different variations.'''\n",
    "import numpy as np\n",
    "\n",
    "\n",
    "def s_entropy(freq_list):\n",
    "    ''' This function computes the shannon entropy of a given frequency distribution.\n",
    "    USAGE: shannon_entropy(freq_list)\n",
    "    ARGS: freq_list = Numeric vector representing the frequency distribution\n",
    "    OUTPUT: A numeric value representing shannon's entropy'''\n",
    "    freq_list = [element for element in freq_list if element != 0]\n",
    "    sh_entropy = 0.0\n",
    "    for freq in freq_list:\n",
    "        sh_entropy += freq * np.log(freq)\n",
    "    sh_entropy = -sh_entropy\n",
    "    return(sh_entropy)\n",
    "\n",
    "def ordinal_patterns(ts, embdim, embdelay):\n",
    "    ''' This function computes the ordinal patterns of a time series for a given embedding dimension and embedding delay.\n",
    "    USAGE: ordinal_patterns(ts, embdim, embdelay)\n",
    "    ARGS: ts = Numeric vector representing the time series, embdim = embedding dimension (3<=embdim<=7 prefered range), embdelay =  embdding delay\n",
    "    OUPTUT: A numeric vector representing frequencies of ordinal patterns'''\n",
    "    m, t = embdim, embdelay\n",
    "    x = ts if isinstance(ts, np.ndarray) else np.array(ts)\n",
    "\n",
    "    tmp = np.zeros((x.shape[0], m))\n",
    "    for i in range(m):\n",
    "        tmp[:, i] = np.roll(x, i*t)\n",
    "    partition = tmp[(t*(m-1)):, :]\n",
    "    permutation = np.argsort(partition)\n",
    "    idx = _hash(permutation)\n",
    "\n",
    "    counts = np.zeros(np.math.factorial(m))\n",
    "    for i in range(counts.shape[0]):\n",
    "        counts[i] = (idx == i).sum()\n",
    "    return list(counts[counts != 0].astype(int))\n",
    "\n",
    "def _hash(x):\n",
    "    m, n = x.shape\n",
    "    if n == 1:\n",
    "        return np.zeros(m)\n",
    "    return np.sum(np.apply_along_axis(lambda y: y < x[:, 0], 0, x), axis=1) * np.math.factorial(n-1) + _hash(x[:, 1:])\n",
    "\n",
    "\n",
    "def p_entropy(op):\n",
    "    ordinal_pat = op\n",
    "    max_entropy = np.log(len(ordinal_pat))\n",
    "    p = np.divide(np.array(ordinal_pat), float(sum(ordinal_pat)))\n",
    "    return(s_entropy(p)/max_entropy)\n",
    "\n",
    "def complexity(op):\n",
    "    ''' This function computes the complexity of a time series defined as: Comp_JS = Q_o * JSdivergence * pe\n",
    "    Q_o = Normalizing constant\n",
    "    JSdivergence = Jensen-Shannon divergence\n",
    "    pe = permutation entopry\n",
    "    ARGS: ordinal pattern'''\n",
    "    pe = p_entropy(op)\n",
    "    constant1 = (0.5+((1 - 0.5)/len(op)))* np.log(0.5+((1 - 0.5)/len(op)))\n",
    "    constant2 = ((1 - 0.5)/len(op))*np.log((1 - 0.5)/len(op))*(len(op) - 1)\n",
    "    constant3 = 0.5*np.log(len(op))\n",
    "    Q_o = -1/(constant1+constant2+constant3)\n",
    "\n",
    "    temp_op_prob = np.divide(op, sum(op))\n",
    "    temp_op_prob2 = (0.5*temp_op_prob)+(0.5*(1/len(op)))\n",
    "    JSdivergence = (s_entropy(temp_op_prob2) - 0.5 * s_entropy(temp_op_prob) - 0.5 * np.log(len(op)))\n",
    "    Comp_JS = Q_o * JSdivergence * pe\n",
    "    return(Comp_JS)\n",
    "\n",
    "def weighted_ordinal_patterns(ts, embdim, embdelay):\n",
    "    m, t = embdim, embdelay\n",
    "    x = ts if isinstance(ts, np.ndarray) else np.array(ts)\n",
    "\n",
    "    tmp = np.zeros((x.shape[0], m))\n",
    "    for i in range(m):\n",
    "        tmp[:, i] = np.roll(x, i*t)\n",
    "    partition = tmp[(t*(m-1)):, :]\n",
    "    xm = np.mean(partition, axis=1)\n",
    "    weight = np.mean((partition - xm[:, None])**2, axis=1)\n",
    "    permutation = np.argsort(partition)\n",
    "    idx = _hash(permutation)\n",
    "    counts = np.zeros(np.math.factorial(m))\n",
    "    for i in range(counts.shape[0]):\n",
    "        counts[i] = sum(weight[i == idx])\n",
    "\n",
    "    return list(counts[counts != 0])"
   ]
  },
  {
   "cell_type": "markdown",
   "metadata": {},
   "source": [
    "## Application"
   ]
  },
  {
   "cell_type": "code",
   "execution_count": 2,
   "metadata": {},
   "outputs": [],
   "source": [
    "# Generating a time series with sine values\n",
    "import math\n",
    "time_series = []\n",
    "for i in range(365):\n",
    "    value = math.sin(math.radians(i))  # Example with sine function\n",
    "    time_series.append(value)"
   ]
  },
  {
   "cell_type": "code",
   "execution_count": 3,
   "metadata": {},
   "outputs": [
    {
     "data": {
      "text/plain": [
       "<AxesSubplot:>"
      ]
     },
     "execution_count": 3,
     "metadata": {},
     "output_type": "execute_result"
    },
    {
     "data": {
      "image/png": "[encoded data removed]",
      "text/plain": [
       "<Figure size 432x288 with 1 Axes>"
      ]
     },
     "metadata": {
      "needs_background": "light"
     },
     "output_type": "display_data"
    }
   ],
   "source": [
    "# Plot time series\n",
    "import seaborn as sns\n",
    "sns.lineplot(time_series)"
   ]
  },
  {
   "cell_type": "code",
   "execution_count": 4,
   "metadata": {},
   "outputs": [],
   "source": [
    "# Compute ordinal patterns with embedding dimension = 3 and embedding delay = 1\n",
    "op_timeseries = ordinal_patterns(time_series, 3, 1)"
   ]
  },
  {
   "cell_type": "code",
   "execution_count": 5,
   "metadata": {},
   "outputs": [
    {
     "name": "stdout",
     "output_type": "stream",
     "text": [
      "0.5246103226528828\n"
     ]
    }
   ],
   "source": [
    "# Compute permutation entropy\n",
    "pe_timeseries = p_entropy(op_timeseries)\n",
    "print(pe_timeseries)"
   ]
  },
  {
   "cell_type": "code",
   "execution_count": 6,
   "metadata": {},
   "outputs": [
    {
     "name": "stdout",
     "output_type": "stream",
     "text": [
      "0.27816502922902525\n"
     ]
    }
   ],
   "source": [
    "# Compute complexity\n",
    "complexity_timeseries = complexity(op_timeseries)\n",
    "print(complexity_timeseries)"
   ]
  },
  {
   "cell_type": "markdown",
   "metadata": {},
   "source": [
    "## Submit your Practice Activity"
   ]
  },
  {
   "cell_type": "markdown",
   "metadata": {},
   "source": [
    "Nice work! You've wrapped up this hands-on coding session.   \n",
    "Please select Submit Assignment at the top of your lab to receive a score for your work.  "
   ]
  }
 ],
 "metadata": {
  "kernelspec": {
   "display_name": "Python 3",
   "language": "python",
   "name": "python3"
  },
  "language_info": {
   "codemirror_mode": {
    "name": "ipython",
    "version": 3
   },
   "file_extension": ".py",
   "mimetype": "text/x-python",
   "name": "python",
   "nbconvert_exporter": "python",
   "pygments_lexer": "ipython3",
   "version": "3.7.6"
  }
 },
 "nbformat": 4,
 "nbformat_minor": 4
}
