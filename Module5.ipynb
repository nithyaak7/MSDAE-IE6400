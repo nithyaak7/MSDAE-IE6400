{
 "cells": [
  {
   "cell_type": "markdown",
   "metadata": {
    "id": "jBHJkoEPXf0N"
   },
   "source": [
    "## Hands on Session Module 5"
   ]
  },
  {
   "cell_type": "markdown",
   "metadata": {
    "id": "rwt7kpgFXor9"
   },
   "source": [
    "Using this Jupyter Notebook, generate the examples provided in the next three slides.  \n",
    "\n",
    "- We will begin by constructing a similarity matrix for a set of data points.\n",
    "- Using a sample dataset, calculate pairwise similarities.\n",
    "- Display the matrix visually to see how each data point relates to the others."
   ]
  },
  {
   "cell_type": "code",
   "execution_count": 2,
   "metadata": {
    "id": "xXb1EKsoXkSd",
    "scrolled": true
   },
   "outputs": [
    {
     "data": {
      "text/plain": [
       "<AxesSubplot:>"
      ]
     },
     "execution_count": 2,
     "metadata": {},
     "output_type": "execute_result"
    },
    {
     "data": {
      "image/png": "[encoded data removed]",
      "text/plain": [
       "<Figure size 432x288 with 2 Axes>"
      ]
     },
     "metadata": {
      "needs_background": "light"
     },
     "output_type": "display_data"
    }
   ],
   "source": [
    "import numpy as np\n",
    "import seaborn as sns\n",
    "from sklearn.metrics import pairwise_distances\n",
    "\n",
    "# Sample data points\n",
    "data = np.array([[1, 2], [5, 4], [3, 6], [4, 7]])\n",
    "\n",
    "# Calculate pairwise distances\n",
    "distances = pairwise_distances(data, metric='euclidean')\n",
    "\n",
    "# Convert distances to similarity\n",
    "similarity = 1 / (1 + distances)\n",
    "\n",
    "# Plot the similarity matrix\n",
    "sns.heatmap(similarity, annot=True, cmap='YlGnBu')\n",
    "\n"
   ]
  },
  {
   "cell_type": "markdown",
   "metadata": {
    "id": "q5ZOjNYgXcpU"
   },
   "source": [
    "The Jaccard Coefficient measures similarity between two sets.  \n",
    "It's calculated as the size of the intersection divided by the size of the union of the two sets.  \n",
    "For this exercise, define two sample sets and compute their Jaccard Coefficient.  \n"
   ]
  },
  {
   "cell_type": "code",
   "execution_count": 3,
   "metadata": {
    "scrolled": true
   },
   "outputs": [
    {
     "name": "stdout",
     "output_type": "stream",
     "text": [
      "Jaccard Coefficient: 0.4\n"
     ]
    }
   ],
   "source": [
    "from sklearn.metrics import jaccard_score\n",
    "\n",
    "# Sample binary data\n",
    "set1 = [1, 1, 0, 0, 1]\n",
    "set2 = [0, 1, 1, 1, 1]\n",
    "\n",
    "# Calculate Jaccard Coefficient\n",
    "jaccard = jaccard_score(set1, set2)\n",
    "\n",
    "print(f\"Jaccard Coefficient: {jaccard}\")"
   ]
  },
  {
   "cell_type": "markdown",
   "metadata": {
    "id": "DTZaN6G0wuMx"
   },
   "source": [
    "A Contingency Matrix showcases the relationship between two sets of clusters.  \n",
    "  \n",
    "We'll create two clustering labels for a dataset.  \n",
    "Compute and display the Contingency Matrix for these labels.  "
   ]
  },
  {
   "cell_type": "code",
   "execution_count": 4,
   "metadata": {
    "id": "7HRAs7YDwyC_",
    "scrolled": true
   },
   "outputs": [
    {
     "data": {
      "text/plain": [
       "<AxesSubplot:>"
      ]
     },
     "execution_count": 4,
     "metadata": {},
     "output_type": "execute_result"
    },
    {
     "data": {
      "image/png": "[encoded data removed]",
      "text/plain": [
       "<Figure size 432x288 with 2 Axes>"
      ]
     },
     "metadata": {
      "needs_background": "light"
     },
     "output_type": "display_data"
    }
   ],
   "source": [
    "from sklearn.metrics import confusion_matrix\n",
    "import seaborn as sns\n",
    "\n",
    "# Sample cluster labels (for demonstration purposes)\n",
    "true_labels = [0, 0, 1, 1, 2, 2]\n",
    "predicted_labels = [0, 1, 1, 2, 2, 0]\n",
    "\n",
    "# Calculate the Contingency Matrix\n",
    "matrix = confusion_matrix(true_labels, predicted_labels)\n",
    "\n",
    "# Plot the matrix\n",
    "sns.heatmap(matrix, annot=True, fmt='g')"
   ]
  },
  {
   "cell_type": "code",
   "execution_count": 5,
   "metadata": {},
   "outputs": [
    {
     "data": {
      "text/plain": [
       "<AxesSubplot:>"
      ]
     },
     "execution_count": 5,
     "metadata": {},
     "output_type": "execute_result"
    },
    {
     "data": {
      "image/png": "[encoded data removed]",
      "text/plain": [
       "<Figure size 432x288 with 2 Axes>"
      ]
     },
     "metadata": {
      "needs_background": "light"
     },
     "output_type": "display_data"
    }
   ],
   "source": [
    "import numpy as np\n",
    "\n",
    "import seaborn as sns\n",
    "\n",
    "from sklearn.metrics import pairwise_distances\n",
    "\n",
    "\n",
    "\n",
    "# Sample data points\n",
    "\n",
    "data = np.array([[1, 2], [5, 4], [3, 6], [4, 7]])\n",
    "\n",
    "\n",
    "\n",
    "# Calculate pairwise distances \n",
    "\n",
    "distances = pairwise_distances(data, metric='euclidean')\n",
    "\n",
    "\n",
    "\n",
    "# Convert distances to similarity\n",
    "\n",
    "similarity = 1 / (1 + distances)\n",
    "\n",
    "\n",
    "\n",
    "# Plot the similarity matrix\n",
    "\n",
    "sns.heatmap(similarity, annot=True, cmap='YlGnBu')"
   ]
  },
  {
   "cell_type": "code",
   "execution_count": 6,
   "metadata": {},
   "outputs": [
    {
     "name": "stdout",
     "output_type": "stream",
     "text": [
      "Jaccard Coefficient: 0.4\n"
     ]
    }
   ],
   "source": [
    "from sklearn.metrics import jaccard_score\n",
    "\n",
    "\n",
    "\n",
    "# Sample binary data\n",
    "\n",
    "set1 = [1, 1, 0, 0, 1]\n",
    "\n",
    "set2 = [0, 1, 1, 1, 1]\n",
    "\n",
    "\n",
    "\n",
    "# Calculate Jaccard Coefficient\n",
    "\n",
    "jaccard = jaccard_score(set1, set2)\n",
    "\n",
    "\n",
    "\n",
    "print(f\"Jaccard Coefficient: {jaccard}\")"
   ]
  },
  {
   "cell_type": "code",
   "execution_count": 7,
   "metadata": {},
   "outputs": [
    {
     "data": {
      "text/plain": [
       "<AxesSubplot:>"
      ]
     },
     "execution_count": 7,
     "metadata": {},
     "output_type": "execute_result"
    },
    {
     "data": {
      "image/png": "[encoded data removed]",
      "text/plain": [
       "<Figure size 432x288 with 2 Axes>"
      ]
     },
     "metadata": {
      "needs_background": "light"
     },
     "output_type": "display_data"
    }
   ],
   "source": [
    "from sklearn.metrics import confusion_matrix\n",
    "\n",
    "import seaborn as sns\n",
    "\n",
    "\n",
    "\n",
    "# Sample cluster labels (for demonstration purposes)\n",
    "\n",
    "true_labels = [0, 0, 1, 1, 2, 2]\n",
    "\n",
    "predicted_labels = [0, 1, 1, 2, 2, 0]\n",
    "\n",
    "\n",
    "\n",
    "# Calculate the Contingency Matrix\n",
    "\n",
    "matrix = confusion_matrix(true_labels, predicted_labels)\n",
    "\n",
    "\n",
    "\n",
    "# Plot the matrix\n",
    "\n",
    "sns.heatmap(matrix, annot=True, fmt='g')\n",
    "\n"
   ]
  }
 ],
 "metadata": {
  "colab": {
   "provenance": []
  },
  "kernelspec": {
   "display_name": "Python 3",
   "language": "python",
   "name": "python3"
  },
  "language_info": {
   "codemirror_mode": {
    "name": "ipython",
    "version": 3
   },
   "file_extension": ".py",
   "mimetype": "text/x-python",
   "name": "python",
   "nbconvert_exporter": "python",
   "pygments_lexer": "ipython3",
   "version": "3.7.6"
  }
 },
 "nbformat": 4,
 "nbformat_minor": 1
}
