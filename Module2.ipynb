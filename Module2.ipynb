{
 "cells": [
  {
   "cell_type": "markdown",
   "metadata": {
    "id": "H8PI3_IWkD82"
   },
   "source": [
    "## Module 2: Data Structures"
   ]
  },
  {
   "cell_type": "markdown",
   "metadata": {
    "id": "s-cOKrrtkM_d"
   },
   "source": [
    "##Lists"
   ]
  },
  {
   "cell_type": "code",
   "execution_count": 1,
   "metadata": {
    "id": "Cc-LYIJxkBe3"
   },
   "outputs": [
    {
     "name": "stdout",
     "output_type": "stream",
     "text": [
      "[10, 'Python', 3.14, 'Hello', 'World']\n"
     ]
    }
   ],
   "source": [
    "my_list = [10, \"Python\", 3.14, \"Hello\"]\n",
    "my_list.append(\"World\")\n",
    "print(my_list)"
   ]
  },
  {
   "cell_type": "markdown",
   "metadata": {
    "id": "DAXMtBm4kXg9"
   },
   "source": [
    "## List Operations"
   ]
  },
  {
   "cell_type": "code",
   "execution_count": 2,
   "metadata": {
    "id": "JkXQwDjLkaQU"
   },
   "outputs": [
    {
     "name": "stdout",
     "output_type": "stream",
     "text": [
      "['apple', 'banana', 'cherry', 'orange']\n",
      "['apple', 'cherry', 'orange']\n",
      "['apple', 'kiwi', 'cherry', 'orange']\n",
      "2\n",
      "['apple', 'cherry', 'kiwi', 'orange']\n"
     ]
    }
   ],
   "source": [
    "# Initializing a list\n",
    "fruits = [\"apple\", \"banana\", \"cherry\"]\n",
    "\n",
    "# Append operation\n",
    "fruits.append(\"orange\")\n",
    "print(fruits)  # ['apple', 'banana', 'cherry', 'orange']\n",
    "\n",
    "# Remove operation\n",
    "fruits.remove(\"banana\")\n",
    "print(fruits)  # ['apple', 'cherry', 'orange']\n",
    "\n",
    "# Insert operation\n",
    "fruits.insert(1, \"kiwi\")\n",
    "print(fruits)  # ['apple', 'kiwi', 'cherry', 'orange']\n",
    "\n",
    "# Index operation\n",
    "index_cherry = fruits.index(\"cherry\")\n",
    "print(index_cherry)  # 2\n",
    "\n",
    "# Sort operation\n",
    "fruits.sort()\n",
    "print(fruits)  # ['apple', 'cherry', 'kiwi', 'orange']\n"
   ]
  },
  {
   "cell_type": "markdown",
   "metadata": {
    "id": "oDl1z1vEklGd"
   },
   "source": [
    "## Indexing and Slicing Lists"
   ]
  },
  {
   "cell_type": "code",
   "execution_count": 29,
   "metadata": {
    "id": "xekmmy98kke9"
   },
   "outputs": [
    {
     "name": "stdout",
     "output_type": "stream",
     "text": [
      "First element in the list:0\n",
      "Last element in the list:9\n",
      "First three numbers in the list are [0, 1, 2]\n",
      "Last three numbers are [7, 8, 9]\n",
      "Even numbers in the list are [0, 2, 4, 6, 8]\n",
      "Odd numbers in the list are [1, 3, 5, 7, 9]\n",
      "Reverse of the list is [9, 8, 7, 6, 5, 4, 3, 2, 1, 0]\n"
     ]
    }
   ],
   "source": [
    "# Initializing a list\n",
    "numbers = [0, 1, 2, 3, 4, 5, 6, 7, 8, 9]\n",
    "\n",
    "# Indexing\n",
    "first_element = numbers[0]       # 0\n",
    "last_element = numbers[-1]      # 9\n",
    "print(f\"First element in the list:{first_element}\")\n",
    "print(f\"Last element in the list:{last_element}\")\n",
    "\n",
    "# Slicing\n",
    "first_three = numbers[:3]       # [0, 1, 2]\n",
    "last_three = numbers[-3:]\n",
    "even_numbers = numbers[::2]     # [0, 2, 4, 6, 8]\n",
    "odd_numbers = numbers[1::2]\n",
    "reverse_list = numbers[::-1]    # [9, 8, 7, 6, 5, 4, 3, 2, 1, 0]\n",
    "\n",
    "print(f\"First three numbers in the list are {first_three}\")\n",
    "print(f\"Last three numbers are {last_three}\")\n",
    "print(f\"Even numbers in the list are {even_numbers}\")\n",
    "print(f\"Odd numbers in the list are {odd_numbers}\")\n",
    "print(f\"Reverse of the list is {reverse_list}\")"
   ]
  },
  {
   "cell_type": "markdown",
   "metadata": {
    "id": "AVgmurmelS2l"
   },
   "source": [
    "## Tuples"
   ]
  },
  {
   "cell_type": "code",
   "execution_count": 30,
   "metadata": {
    "id": "yQvhlcXukxBc"
   },
   "outputs": [
    {
     "name": "stdout",
     "output_type": "stream",
     "text": [
      "('Mercury', 'Venus', 'Earth', 'Mars')\n"
     ]
    }
   ],
   "source": [
    "# Defining a tuple\n",
    "planets = (\"Mercury\", \"Venus\", \"Earth\", \"Mars\")\n",
    "print(planets)"
   ]
  },
  {
   "cell_type": "markdown",
   "metadata": {
    "id": "zU3NWAwIlZsc"
   },
   "source": [
    "## Tuple Operations\n"
   ]
  },
  {
   "cell_type": "code",
   "execution_count": 34,
   "metadata": {
    "id": "6GFWhUwLlVh9"
   },
   "outputs": [
    {
     "name": "stdout",
     "output_type": "stream",
     "text": [
      "red\n",
      "('red', 'blue')\n",
      "No. of times the color red appeared in the tuple: 2\n",
      "5\n"
     ]
    }
   ],
   "source": [
    "# Initializing a tuple\n",
    "colors = (\"red\", \"blue\", \"green\", \"red\", \"yellow\")\n",
    "\n",
    "# Indexing\n",
    "first_color = colors[0]        # 'red'\n",
    "print(first_color)\n",
    "# Slicing\n",
    "primary_colors = colors[:2]    # ('red', 'blue')\n",
    "print(primary_colors)\n",
    "\n",
    "# Count operation\n",
    "red_count = colors.count(\"red\")  # 2\n",
    "print(f\"No. of times the color red appeared in the tuple: {red_count}\")\n",
    "\n",
    "# Length operation\n",
    "total_colors = len(colors)      # 5\n",
    "print(total_colors)"
   ]
  },
  {
   "cell_type": "markdown",
   "metadata": {
    "id": "-hEA4OEglcs0"
   },
   "source": [
    "## Arrays"
   ]
  },
  {
   "cell_type": "code",
   "execution_count": 35,
   "metadata": {
    "id": "fD_WS_owlfNU"
   },
   "outputs": [],
   "source": [
    "from array import array\n",
    "\n",
    "# Initializing an array of integers ('i' typecode)\n",
    "int_array = array('i', [1, 2, 3, 4, 5])\n",
    "\n",
    "# Accessing and modifying elements\n",
    "int_array[2] = 6\n"
   ]
  },
  {
   "cell_type": "markdown",
   "metadata": {
    "id": "BLwIRhKIllEN"
   },
   "source": [
    "## Array Operations"
   ]
  },
  {
   "cell_type": "code",
   "execution_count": 36,
   "metadata": {
    "id": "R18QF3WSljJ1"
   },
   "outputs": [
    {
     "name": "stdout",
     "output_type": "stream",
     "text": [
      "After append:array('i', [1, 2, 3, 4, 5, 6])\n",
      "After extend:array('i', [1, 2, 3, 4, 5, 6, 7, 8])\n",
      "After the pop operation:array('i', [1, 2, 3, 4, 5, 6, 7])\n",
      "Getting the index of 3 in array:3\n",
      "Number of times 3 appear in the array is: 1\n",
      "After reversing the array:array('i', [7, 6, 5, 4, 3, 2, 1])\n"
     ]
    }
   ],
   "source": [
    "from array import array\n",
    "\n",
    "# Initializing an array of integers\n",
    "numbers = array('i', [1, 2, 3, 4, 5])\n",
    "\n",
    "# Append operation\n",
    "numbers.append(6)\n",
    "print(f\"After append:{numbers}\")\n",
    "\n",
    "# Extend operation\n",
    "numbers.extend([7, 8])\n",
    "print(f\"After extend:{numbers}\")\n",
    "\n",
    "# Pop operation\n",
    "numbers.pop()\n",
    "print(f\"After the pop operation:{numbers}\")\n",
    "\n",
    "# Index operation\n",
    "index_four = numbers.index(4)\n",
    "print(f\"Getting the index of 3 in array:{index_four}\")\n",
    "\n",
    "# Count operation\n",
    "count_threes = numbers.count(3)\n",
    "print(f\"Number of times 3 appear in the array is: {count_threes}\")\n",
    "\n",
    "# Reverse operation\n",
    "numbers.reverse()\n",
    "print(f\"After reversing the array:{numbers}\")\n"
   ]
  },
  {
   "cell_type": "markdown",
   "metadata": {
    "id": "ruVM40zklnsc"
   },
   "source": [
    "##Dictionaries"
   ]
  },
  {
   "cell_type": "code",
   "execution_count": 37,
   "metadata": {
    "id": "TPZzQk2rlnAM"
   },
   "outputs": [
    {
     "name": "stdout",
     "output_type": "stream",
     "text": [
      "John Doe\n"
     ]
    }
   ],
   "source": [
    "# Initializing a dictionary\n",
    "person = {\n",
    "    \"name\": \"John Doe\",\n",
    "    \"age\": 30,\n",
    "    \"is_student\": False\n",
    "}\n",
    "\n",
    "# Accessing values using keys\n",
    "person_name = person[\"name\"]\n",
    "print(person_name)"
   ]
  },
  {
   "cell_type": "markdown",
   "metadata": {
    "id": "ZZMQSToSlswM"
   },
   "source": [
    "## Dictionary Operations"
   ]
  },
  {
   "cell_type": "code",
   "execution_count": 43,
   "metadata": {
    "id": "dqA2AjkAlsF8"
   },
   "outputs": [
    {
     "name": "stdout",
     "output_type": "stream",
     "text": [
      "{'title': '1984', 'author': 'George Orwell', 'year': 1949}\n",
      "{'title': '1984', 'author': 'George Orwell', 'year': 1950, 'publisher': 'Penguin Books'}\n",
      "{'title': '1984', 'author': 'George Orwell', 'publisher': 'Penguin Books'}\n",
      "George Orwell\n",
      "dict_keys(['title', 'author', 'publisher'])\n",
      "dict_values(['1984', 'George Orwell', 'Penguin Books'])\n",
      "True\n"
     ]
    }
   ],
   "source": [
    "# Initializing a dictionary\n",
    "book = {\n",
    "    \"title\": \"1984\",\n",
    "    \"author\": \"George Orwell\",\n",
    "    \"year\": 1949\n",
    "}\n",
    "print(book)\n",
    "# Add/Update entry\n",
    "book[\"publisher\"] = \"Penguin Books\"\n",
    "book[\"year\"] = 1950\n",
    "print(book)\n",
    "\n",
    "# Remove entry\n",
    "del book[\"year\"]\n",
    "print(book)\n",
    "# Get value\n",
    "author_name = book.get(\"author\")\n",
    "print(author_name)\n",
    "# List keys and values\n",
    "all_keys = book.keys()\n",
    "all_values = book.values()\n",
    "\n",
    "# Check key existence\n",
    "has_title = \"title\" in book\n",
    "\n",
    "print(all_keys)\n",
    "print(all_values)\n",
    "print(has_title)"
   ]
  },
  {
   "cell_type": "markdown",
   "metadata": {
    "id": "_YL6ZY9ElweE"
   },
   "source": [
    "## Sets"
   ]
  },
  {
   "cell_type": "code",
   "execution_count": 45,
   "metadata": {
    "id": "uPtKqUCXlyKk"
   },
   "outputs": [
    {
     "name": "stdout",
     "output_type": "stream",
     "text": [
      "{'apple', 'banana', 'cherry'}\n"
     ]
    }
   ],
   "source": [
    "# Creating a set\n",
    "fruits = {\"apple\", \"banana\", \"cherry\"}\n",
    "print(fruits)\n"
   ]
  },
  {
   "cell_type": "code",
   "execution_count": 46,
   "metadata": {},
   "outputs": [
    {
     "name": "stdout",
     "output_type": "stream",
     "text": [
      "{'apple', 'banana', 'orange', 'cherry'}\n"
     ]
    }
   ],
   "source": [
    "# Adding an element\n",
    "fruits.add(\"orange\")\n",
    "print(fruits)"
   ]
  },
  {
   "cell_type": "code",
   "execution_count": 47,
   "metadata": {},
   "outputs": [
    {
     "name": "stdout",
     "output_type": "stream",
     "text": [
      "{'apple', 'orange', 'cherry'}\n"
     ]
    }
   ],
   "source": [
    "# Removing an element\n",
    "fruits.remove(\"banana\")\n",
    "print(fruits)"
   ]
  },
  {
   "cell_type": "code",
   "execution_count": 48,
   "metadata": {},
   "outputs": [
    {
     "name": "stdout",
     "output_type": "stream",
     "text": [
      "{'grape', 'apple'}\n",
      "{'apple', 'cherry', 'grape', 'orange'}\n",
      "{'apple'}\n"
     ]
    }
   ],
   "source": [
    "\n",
    "# Union and Intersection\n",
    "other_fruits = {\"grape\", \"apple\"}\n",
    "combined = fruits | other_fruits\n",
    "common = fruits & other_fruits\n",
    "\n",
    "print(other_fruits)\n",
    "print(combined)\n",
    "print(common)"
   ]
  },
  {
   "cell_type": "markdown",
   "metadata": {
    "id": "me-e2iZXl3uV"
   },
   "source": [
    "## Set Operations"
   ]
  },
  {
   "cell_type": "code",
   "execution_count": 49,
   "metadata": {
    "id": "5_DcM9_Nl3Fc"
   },
   "outputs": [],
   "source": [
    "A = {1, 2, 3, 4}\n",
    "B = {3, 4, 5, 6}"
   ]
  },
  {
   "cell_type": "code",
   "execution_count": 53,
   "metadata": {},
   "outputs": [
    {
     "name": "stdout",
     "output_type": "stream",
     "text": [
      "AUB is {1, 2, 3, 4, 5, 6}\n"
     ]
    }
   ],
   "source": [
    "# Union\n",
    "union_set = A | B\n",
    "print(f\"AUB is {union_set}\")"
   ]
  },
  {
   "cell_type": "code",
   "execution_count": 54,
   "metadata": {},
   "outputs": [
    {
     "name": "stdout",
     "output_type": "stream",
     "text": [
      "A intersection B is :{3, 4}\n"
     ]
    }
   ],
   "source": [
    "# Intersection\n",
    "intersection_set = A & B\n",
    "print(f\"A intersection B is :{intersection_set}\")"
   ]
  },
  {
   "cell_type": "code",
   "execution_count": 56,
   "metadata": {},
   "outputs": [
    {
     "name": "stdout",
     "output_type": "stream",
     "text": [
      "Elements that are in A but not in B: {1, 2}\n",
      "Combined elements that are not in the other set: {1, 2, 5, 6}\n"
     ]
    }
   ],
   "source": [
    "# Difference\n",
    "difference_set = A - B\n",
    "print(f\"Elements that are in A but not in B: {difference_set}\")\n",
    "\n",
    "# Symmetric Difference\n",
    "symmetric_diff = A ^ B\n",
    "print(f\"Combined elements that are not in the other set: {symmetric_diff}\")"
   ]
  },
  {
   "cell_type": "code",
   "execution_count": 58,
   "metadata": {},
   "outputs": [
    {
     "name": "stdout",
     "output_type": "stream",
     "text": [
      "False\n",
      "False\n"
     ]
    }
   ],
   "source": [
    "# Subset and Superset Check\n",
    "is_subset = A.issubset(B)\n",
    "is_superset = A.issuperset(B)\n",
    "print(is_subset)\n",
    "print(is_superset)"
   ]
  },
  {
   "cell_type": "code",
   "execution_count": 60,
   "metadata": {},
   "outputs": [
    {
     "name": "stdout",
     "output_type": "stream",
     "text": [
      "[10, 20, 25, 30, 40, 50]\n",
      "[900, 1600, 2500]\n"
     ]
    }
   ],
   "source": [
    "numbers = [10, 20, 30, 40, 50]\n",
    "\n",
    "squared = [num**2 for num in numbers if num > 25]\n",
    "\n",
    "numbers.insert(2, 25)\n",
    "\n",
    "print(numbers)\n",
    "print(squared)"
   ]
  },
  {
   "cell_type": "code",
   "execution_count": 62,
   "metadata": {},
   "outputs": [
    {
     "name": "stdout",
     "output_type": "stream",
     "text": [
      "10\n",
      "apple\n",
      "2.5\n",
      "(2.5, 'apple', 10)\n"
     ]
    }
   ],
   "source": [
    "data = (10, \"apple\", 2.5)\n",
    "\n",
    "num, fruit, value = data\n",
    "print(num)\n",
    "print(fruit)\n",
    "print(value)\n",
    "\n",
    "reversed_data = data[::-1]\n",
    "print(reversed_data)"
   ]
  },
  {
   "cell_type": "code",
   "execution_count": 65,
   "metadata": {},
   "outputs": [
    {
     "name": "stdout",
     "output_type": "stream",
     "text": [
      "{'name': 'John', 'age': 30, 'city': 'New York', 'skills': ['Python', 'SQL']}\n",
      "30\n",
      "dict_items([('name', 'John'), ('city', 'New York'), ('skills', ['Python', 'SQL'])])\n"
     ]
    }
   ],
   "source": [
    "person = {\"name\": \"John\", \"age\": 30, \"city\": \"New York\"}\n",
    "\n",
    "\n",
    "person[\"skills\"] = [\"Python\", \"SQL\"]\n",
    "print(person)\n",
    "\n",
    "age = person.pop(\"age\")\n",
    "print(age)\n",
    "\n",
    "\n",
    "items = person.items()\n",
    "print(items)"
   ]
  },
  {
   "cell_type": "code",
   "execution_count": 68,
   "metadata": {},
   "outputs": [
    {
     "name": "stdout",
     "output_type": "stream",
     "text": [
      "{'apple', 'banana'}\n",
      "{'apple', 'strawberry', 'cherry', 'banana', 'blueberry'}\n"
     ]
    }
   ],
   "source": [
    "fruits = {\"apple\", \"banana\", \"cherry\"}\n",
    "\n",
    "berries = {\"strawberry\", \"blueberry\", \"cherry\"}\n",
    "\n",
    "\n",
    "unique_fruits = fruits - berries\n",
    "print(unique_fruits)\n",
    "\n",
    "combined = fruits.union(berries)\n",
    "print(combined)"
   ]
  },
  {
   "cell_type": "code",
   "execution_count": null,
   "metadata": {},
   "outputs": [],
   "source": []
  }
 ],
 "metadata": {
  "colab": {
   "provenance": []
  },
  "kernelspec": {
   "display_name": "Python 3",
   "language": "python",
   "name": "python3"
  },
  "language_info": {
   "codemirror_mode": {
    "name": "ipython",
    "version": 3
   },
   "file_extension": ".py",
   "mimetype": "text/x-python",
   "name": "python",
   "nbconvert_exporter": "python",
   "pygments_lexer": "ipython3",
   "version": "3.7.6"
  }
 },
 "nbformat": 4,
 "nbformat_minor": 1
}
