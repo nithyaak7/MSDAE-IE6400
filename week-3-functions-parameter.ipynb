{
 "cells": [
  {
   "cell_type": "markdown",
   "metadata": {},
   "source": [
    "## Sample functions"
   ]
  },
  {
   "cell_type": "code",
   "execution_count": 1,
   "metadata": {},
   "outputs": [
    {
     "name": "stdout",
     "output_type": "stream",
     "text": [
      "Start\n",
      "Hello\n",
      "How are you?\n",
      "Finish\n"
     ]
    }
   ],
   "source": [
    "def greet_user():\n",
    "    print(\"Hello\")\n",
    "    print(\"How are you?\")\n",
    "\n",
    "\n",
    "print(\"Start\")\n",
    "greet_user()\n",
    "print(\"Finish\")"
   ]
  },
  {
   "cell_type": "markdown",
   "metadata": {},
   "source": [
    "## Function with a parameter. Calling with an argument"
   ]
  },
  {
   "cell_type": "code",
   "execution_count": 5,
   "metadata": {},
   "outputs": [
    {
     "name": "stdout",
     "output_type": "stream",
     "text": [
      "Start\n",
      "Hello, jjkjk!\n",
      "Welcome aboard\n",
      "Finish\n"
     ]
    }
   ],
   "source": [
    "def greet_user_with(name):\n",
    "    print(f'Hello, {name}!')\n",
    "    print('Welcome aboard')\n",
    "\n",
    "print(\"Start\")\n",
    "greet_user_with(input(\"Enter the name\"))\n",
    "print(\"Finish\")"
   ]
  },
  {
   "cell_type": "markdown",
   "metadata": {},
   "source": [
    "## Function with multiple parameters"
   ]
  },
  {
   "cell_type": "code",
   "execution_count": 6,
   "metadata": {},
   "outputs": [
    {
     "name": "stdout",
     "output_type": "stream",
     "text": [
      "Start\n",
      "Hello, John Smith!\n",
      "End\n"
     ]
    }
   ],
   "source": [
    "def greet_users(first,last):\n",
    "    print(f'Hello, {first} {last}!')\n",
    "\n",
    "print('Start')\n",
    "greet_users('John','Smith')\n",
    "print('End')"
   ]
  },
  {
   "cell_type": "markdown",
   "metadata": {},
   "source": [
    "## Return statements"
   ]
  },
  {
   "cell_type": "code",
   "execution_count": 7,
   "metadata": {},
   "outputs": [
    {
     "name": "stdout",
     "output_type": "stream",
     "text": [
      "16\n"
     ]
    }
   ],
   "source": [
    "def square(number):\n",
    "    return number*number\n",
    "\n",
    "print(square(4))"
   ]
  },
  {
   "cell_type": "code",
   "execution_count": 8,
   "metadata": {},
   "outputs": [
    {
     "name": "stdout",
     "output_type": "stream",
     "text": [
      "16\n",
      "None\n"
     ]
    }
   ],
   "source": [
    "def sqr(number):\n",
    "    print(number*number)\n",
    "\n",
    "\n",
    "print(sqr(4))"
   ]
  },
  {
   "cell_type": "markdown",
   "metadata": {},
   "source": [
    "Python by default returns None and so return statement is required."
   ]
  },
  {
   "cell_type": "markdown",
   "metadata": {},
   "source": [
    "## Emoji converter using functions"
   ]
  },
  {
   "cell_type": "code",
   "execution_count": 13,
   "metadata": {},
   "outputs": [
    {
     "name": "stdout",
     "output_type": "stream",
     "text": [
      "Good 🙂 \n"
     ]
    }
   ],
   "source": [
    "def emoji_converter(words):\n",
    "    words = message.split(' ')\n",
    "    output =\"\"\n",
    "    emojis= {\n",
    "            \":)\" : \"🙂\",\n",
    "            \":(\" : \"🙁\",\n",
    "            \";)\" : \"😀\"    \n",
    "            }\n",
    "    for word in words:\n",
    "        output += emojis.get(word,word) + \" \"\n",
    "    return output\n",
    "\n",
    "\n",
    "message = input(\"Enter your message:\")\n",
    "\n",
    "print(emoji_converter(message))"
   ]
  },
  {
   "cell_type": "markdown",
   "metadata": {},
   "source": [
    "## Error Handling"
   ]
  },
  {
   "cell_type": "code",
   "execution_count": 19,
   "metadata": {},
   "outputs": [
    {
     "name": "stdout",
     "output_type": "stream",
     "text": [
      "0\n",
      "Age cannot be zero\n"
     ]
    }
   ],
   "source": [
    "try:\n",
    "    age = int(input(\"Age:\"))\n",
    "    print(age)\n",
    "    income=int(input(\"Income:\"))\n",
    "    risk = income/age\n",
    "    print(risk)\n",
    "except ZeroDivisionError:\n",
    "    print('Age cannot be zero')\n",
    "except ValueError:\n",
    "    print(\"Invalid Value\")"
   ]
  }
 ],
 "metadata": {
  "kernelspec": {
   "display_name": "Python 3",
   "language": "python",
   "name": "python3"
  },
  "language_info": {
   "codemirror_mode": {
    "name": "ipython",
    "version": 3
   },
   "file_extension": ".py",
   "mimetype": "text/x-python",
   "name": "python",
   "nbconvert_exporter": "python",
   "pygments_lexer": "ipython3",
   "version": "3.12.4"
  }
 },
 "nbformat": 4,
 "nbformat_minor": 2
}
