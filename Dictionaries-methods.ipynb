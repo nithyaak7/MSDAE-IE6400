{
 "cells": [
  {
   "cell_type": "markdown",
   "metadata": {},
   "source": [
    "## Dictionary Methods"
   ]
  },
  {
   "cell_type": "code",
   "execution_count": 6,
   "metadata": {},
   "outputs": [],
   "source": [
    "fruits =  {\"apple\",\"banana\",\"cherry\",\"dragonfruit\",\"acai\",\"blueberry\"}\n",
    "store2={\"apple\",\"banana\",\"cherry\",\"blueberry\",\"oranges\",\"grapes\"}\n",
    "to_order = {\"strawberry\",\"raspberry\",\"oranges\"}"
   ]
  },
  {
   "cell_type": "code",
   "execution_count": 9,
   "metadata": {},
   "outputs": [
    {
     "name": "stdout",
     "output_type": "stream",
     "text": [
      "All the fruits of the stores are:{'dragonfruit', 'acai', 'blueberry', 'banana', 'grapes', 'cherry', 'oranges', 'apple'}\n"
     ]
    }
   ],
   "source": [
    "#Union\n",
    "\n",
    "total = fruits|store2\n",
    "print(f\"All the fruits of the stores are:{total}\")"
   ]
  },
  {
   "cell_type": "code",
   "execution_count": 8,
   "metadata": {},
   "outputs": [
    {
     "name": "stdout",
     "output_type": "stream",
     "text": [
      "Fruits that are common are:{'banana', 'apple', 'cherry', 'blueberry'}\n"
     ]
    }
   ],
   "source": [
    "#Intersection\n",
    "common = fruits & store2\n",
    "print(f\"Fruits that are common are:{common}\")"
   ]
  },
  {
   "cell_type": "code",
   "execution_count": 10,
   "metadata": {},
   "outputs": [
    {
     "name": "stdout",
     "output_type": "stream",
     "text": [
      "Fruits that are available in store1 but not in store2 are:{'dragonfruit', 'acai'}\n"
     ]
    }
   ],
   "source": [
    "# Difference\n",
    "avail_store1 = fruits-store2\n",
    "print(f\"Fruits that are available in store1 but not in store2 are:{avail_store1}\")"
   ]
  },
  {
   "cell_type": "code",
   "execution_count": 11,
   "metadata": {},
   "outputs": [
    {
     "name": "stdout",
     "output_type": "stream",
     "text": [
      "{'grapes', 'oranges', 'dragonfruit', 'acai'}\n"
     ]
    }
   ],
   "source": [
    "#Symmetric Difference\n",
    "symm_diff =fruits^store2\n",
    "print(symm_diff)"
   ]
  },
  {
   "cell_type": "code",
   "execution_count": 12,
   "metadata": {},
   "outputs": [
    {
     "name": "stdout",
     "output_type": "stream",
     "text": [
      "Store is a subset of fruits:True\n",
      "Fruits is a superset of store:True\n"
     ]
    }
   ],
   "source": [
    "#Subset/Superset?\n",
    "store = {\"apple\",\"banana\"}\n",
    "is_subset = store.issubset(fruits)\n",
    "is_superset = fruits.issuperset(store)\n",
    "print(f\"Store is a subset of fruits:{is_subset}\")\n",
    "print(f\"Fruits is a superset of store:{is_superset}\")"
   ]
  }
 ],
 "metadata": {
  "kernelspec": {
   "display_name": "Python 3",
   "language": "python",
   "name": "python3"
  },
  "language_info": {
   "codemirror_mode": {
    "name": "ipython",
    "version": 3
   },
   "file_extension": ".py",
   "mimetype": "text/x-python",
   "name": "python",
   "nbconvert_exporter": "python",
   "pygments_lexer": "ipython3",
   "version": "3.12.4"
  }
 },
 "nbformat": 4,
 "nbformat_minor": 2
}
