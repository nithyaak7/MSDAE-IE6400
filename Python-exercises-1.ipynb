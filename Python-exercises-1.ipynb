{
 "cells": [
  {
   "cell_type": "markdown",
   "metadata": {},
   "source": [
    "## Find the greatest number in a list"
   ]
  },
  {
   "cell_type": "code",
   "execution_count": 12,
   "metadata": {},
   "outputs": [
    {
     "name": "stdout",
     "output_type": "stream",
     "text": [
      "12\n",
      "150\n"
     ]
    }
   ],
   "source": [
    "num_list = [44,12,43,123,8,3,56,78,54,98,76,150]\n",
    "count = len(num_list)\n",
    "print(count)\n",
    "grt_num = num_list[0]\n",
    "for i in range(count):\n",
    "    if num_list[i] > grt_num:\n",
    "            grt_num = num_list[i]\n",
    "print(grt_num)"
   ]
  },
  {
   "cell_type": "markdown",
   "metadata": {},
   "source": [
    "## Print string 'x' for the count of numbers in a list"
   ]
  },
  {
   "cell_type": "code",
   "execution_count": 17,
   "metadata": {},
   "outputs": [
    {
     "name": "stdout",
     "output_type": "stream",
     "text": [
      "xxxx\n",
      "x\n",
      "xx\n",
      "xxx\n",
      "xxxx\n",
      "xxxxx\n"
     ]
    }
   ],
   "source": [
    "numbers = [4,1,2,3,4,5]\n",
    "\n",
    "for num in numbers:\n",
    "    output = ''\n",
    "    for x_print in range(num):\n",
    "        output += 'x'\n",
    "    print(output)\n",
    "    "
   ]
  },
  {
   "cell_type": "markdown",
   "metadata": {},
   "source": [
    "## List methods"
   ]
  },
  {
   "cell_type": "code",
   "execution_count": 11,
   "metadata": {},
   "outputs": [],
   "source": [
    "numbers = [4,12,54,1,19,4]"
   ]
  },
  {
   "cell_type": "code",
   "execution_count": 2,
   "metadata": {},
   "outputs": [
    {
     "name": "stdout",
     "output_type": "stream",
     "text": [
      "[4, 12, 54, 1, 19, 3]\n"
     ]
    }
   ],
   "source": [
    "# append\n",
    "numbers.append(3)\n",
    "print(numbers)"
   ]
  },
  {
   "cell_type": "code",
   "execution_count": 3,
   "metadata": {},
   "outputs": [
    {
     "name": "stdout",
     "output_type": "stream",
     "text": [
      "[4, 12, 54, 1, 19, 3, 2]\n"
     ]
    }
   ],
   "source": [
    "#insert\n",
    "numbers.insert(21, 2)\n",
    "print(numbers)"
   ]
  },
  {
   "cell_type": "code",
   "execution_count": 4,
   "metadata": {},
   "outputs": [
    {
     "name": "stdout",
     "output_type": "stream",
     "text": [
      "[4, 54, 1, 19, 3, 2]\n"
     ]
    }
   ],
   "source": [
    "#remove\n",
    "numbers.remove(12)\n",
    "print(numbers)"
   ]
  },
  {
   "cell_type": "code",
   "execution_count": 5,
   "metadata": {},
   "outputs": [
    {
     "name": "stdout",
     "output_type": "stream",
     "text": [
      "[4, 54, 1, 19, 3]\n"
     ]
    }
   ],
   "source": [
    "#pop\n",
    "numbers.pop()\n",
    "print(numbers)"
   ]
  },
  {
   "cell_type": "code",
   "execution_count": 28,
   "metadata": {},
   "outputs": [
    {
     "name": "stdout",
     "output_type": "stream",
     "text": [
      "[]\n"
     ]
    }
   ],
   "source": [
    "#clear\n",
    "\n",
    "numbers.clear()\n",
    "print(numbers)"
   ]
  },
  {
   "cell_type": "code",
   "execution_count": 10,
   "metadata": {},
   "outputs": [
    {
     "name": "stdout",
     "output_type": "stream",
     "text": [
      "3\n",
      "False\n"
     ]
    }
   ],
   "source": [
    "#index\n",
    "print(numbers.index(19))\n",
    "#print(numbers.index(9))\n",
    "print(9 in numbers)"
   ]
  },
  {
   "cell_type": "code",
   "execution_count": 14,
   "metadata": {},
   "outputs": [
    {
     "name": "stdout",
     "output_type": "stream",
     "text": [
      "2\n"
     ]
    }
   ],
   "source": [
    "#count\n",
    "print(numbers.count(4))"
   ]
  },
  {
   "cell_type": "code",
   "execution_count": 21,
   "metadata": {},
   "outputs": [
    {
     "name": "stdout",
     "output_type": "stream",
     "text": [
      "[54, 19, 12, 4, 4, 1]\n"
     ]
    }
   ],
   "source": [
    "#sort(for descending use argument reverse=True)\n",
    "numbers.sort(reverse=True)\n",
    "print(numbers)"
   ]
  },
  {
   "cell_type": "code",
   "execution_count": 22,
   "metadata": {},
   "outputs": [
    {
     "name": "stdout",
     "output_type": "stream",
     "text": [
      "[1, 4, 4, 12, 19, 54]\n"
     ]
    }
   ],
   "source": [
    "#reverse\n",
    "numbers.reverse()\n",
    "print(numbers)"
   ]
  },
  {
   "cell_type": "code",
   "execution_count": 23,
   "metadata": {},
   "outputs": [
    {
     "name": "stdout",
     "output_type": "stream",
     "text": [
      "[1, 4, 4, 12, 19, 54]\n"
     ]
    }
   ],
   "source": [
    "#copy\n",
    "numbers2 = numbers.copy()\n",
    "print(numbers2)"
   ]
  },
  {
   "cell_type": "markdown",
   "metadata": {},
   "source": [
    "## Remove duplicates in a list"
   ]
  },
  {
   "cell_type": "code",
   "execution_count": 25,
   "metadata": {},
   "outputs": [
    {
     "name": "stdout",
     "output_type": "stream",
     "text": [
      "[2, 4, 1, 5, 6, 7, 3]\n"
     ]
    }
   ],
   "source": [
    "list1 = [2,4,1,2,1,5,6,7,3,2]\n",
    "list2=[]\n",
    "for num in list1:\n",
    "    if num in list2:\n",
    "        continue\n",
    "    else:\n",
    "        list2.append(num)\n",
    "print(list2)        \n"
   ]
  },
  {
   "cell_type": "markdown",
   "metadata": {},
   "source": [
    "## Unpacking tuples and lists"
   ]
  },
  {
   "cell_type": "code",
   "execution_count": 28,
   "metadata": {},
   "outputs": [
    {
     "name": "stdout",
     "output_type": "stream",
     "text": [
      "23\n",
      "43\n",
      "212\n",
      "343\n"
     ]
    }
   ],
   "source": [
    "numbers=(23,43,54)\n",
    "x,y,z = numbers\n",
    "print(x)\n",
    "print(y)\n",
    "\n",
    "num=[212,343,565]\n",
    "a,b,c = num\n",
    "print(a)\n",
    "print(b)"
   ]
  },
  {
   "cell_type": "markdown",
   "metadata": {},
   "source": [
    "## Using dictionary to convert a string of numbers to corresponding word"
   ]
  },
  {
   "cell_type": "code",
   "execution_count": 32,
   "metadata": {},
   "outputs": [
    {
     "name": "stdout",
     "output_type": "stream",
     "text": [
      "Two Three Zero Nine Invalid character \n"
     ]
    }
   ],
   "source": [
    "phone = input(\"Phone:\")\n",
    "num_map ={\n",
    "    \"1\": \"One\",\n",
    "    \"2\":\"Two\",\n",
    "    \"3\": \"Three\",\n",
    "    \"4\":\"Four\",\n",
    "    \"5\":\"Five\",\n",
    "    \"6\":\"Six\",\n",
    "    \"7\":\"Seven\",\n",
    "    \"8\":\"Eight\",\n",
    "    \"9\":\"Nine\",\n",
    "    \"0\":\"Zero\"\n",
    "    }\n",
    "output=\"\"\n",
    "for char in phone:\n",
    "    output += num_map.get(char,\"Invalid character\") + \" \"\n",
    "print(output)\n"
   ]
  },
  {
   "cell_type": "markdown",
   "metadata": {},
   "source": [
    "## Emoji Converter"
   ]
  },
  {
   "cell_type": "code",
   "execution_count": 34,
   "metadata": {},
   "outputs": [
    {
     "name": "stdout",
     "output_type": "stream",
     "text": [
      "good morning 🙂 \n"
     ]
    }
   ],
   "source": [
    "message = input(\"Enter your message:\")\n",
    "words = message.split(' ')\n",
    "output =\"\"\n",
    "emojis= {\n",
    "    \":)\" : \"🙂\",\n",
    "    \":(\" : \"🙁\",\n",
    "    \";)\" : \"😀\"\n",
    "    \n",
    "}\n",
    "for word in words:\n",
    "    output += emojis.get(word,word) + \" \"\n",
    "print(output)"
   ]
  }
 ],
 "metadata": {
  "kernelspec": {
   "display_name": "Python 3",
   "language": "python",
   "name": "python3"
  },
  "language_info": {
   "codemirror_mode": {
    "name": "ipython",
    "version": 3
   },
   "file_extension": ".py",
   "mimetype": "text/x-python",
   "name": "python",
   "nbconvert_exporter": "python",
   "pygments_lexer": "ipython3",
   "version": "3.12.4"
  }
 },
 "nbformat": 4,
 "nbformat_minor": 2
}
