{
 "cells": [
  {
   "cell_type": "markdown",
   "metadata": {
    "id": "P9cGODMqBzTV"
   },
   "source": [
    "# Welcome to Module 1!"
   ]
  },
  {
   "cell_type": "markdown",
   "metadata": {
    "id": "_2YOvjEPCAbb"
   },
   "source": [
    "## In this module we will be going over concepts related to Python programming language discussed in Module 1"
   ]
  },
  {
   "cell_type": "markdown",
   "metadata": {
    "id": "CNMMkbBQ-5GV"
   },
   "source": [
    "## Integer values"
   ]
  },
  {
   "cell_type": "code",
   "execution_count": 1,
   "metadata": {
    "id": "p0xZEKJf-rbG"
   },
   "outputs": [
    {
     "name": "stdout",
     "output_type": "stream",
     "text": [
      "x= 5\n",
      "y= -10\n",
      "z= 0\n"
     ]
    }
   ],
   "source": [
    "x = 5\n",
    "y = -10\n",
    "z = 0\n",
    "print(\"x=\", x)\n",
    "print(\"y=\", y)\n",
    "print(\"z=\", z)"
   ]
  },
  {
   "cell_type": "markdown",
   "metadata": {
    "id": "R4pldtpQ_FXe"
   },
   "source": [
    "## Floating point values"
   ]
  },
  {
   "cell_type": "code",
   "execution_count": 2,
   "metadata": {
    "id": "Z_CqO4LJ_Fut"
   },
   "outputs": [
    {
     "name": "stdout",
     "output_type": "stream",
     "text": [
      "a= 5.5\n",
      "b= -0.01\n",
      "c= 100.0\n"
     ]
    }
   ],
   "source": [
    "a = 5.5\n",
    "b = -0.01\n",
    "c = 100.0\n",
    "print(\"a=\", a)\n",
    "print(\"b=\", b)\n",
    "print(\"c=\", c)"
   ]
  },
  {
   "cell_type": "markdown",
   "metadata": {
    "id": "Rxa3TCI3_SxM"
   },
   "source": [
    "## Strings"
   ]
  },
  {
   "cell_type": "code",
   "execution_count": 3,
   "metadata": {
    "id": "Pnqrrf_w_VWD"
   },
   "outputs": [
    {
     "name": "stdout",
     "output_type": "stream",
     "text": [
      "Alice\n",
      "Hello, World!\n",
      "This is a\n",
      "multi-line string.\n"
     ]
    }
   ],
   "source": [
    "name = \"Alice\"\n",
    "greeting = 'Hello, World!'\n",
    "paragraph = \"\"\"This is a\n",
    "multi-line string.\"\"\"\n",
    "\n",
    "print(name)\n",
    "print(greeting)\n",
    "print(paragraph)"
   ]
  },
  {
   "cell_type": "markdown",
   "metadata": {
    "id": "Ol3T6ZBI_pjN"
   },
   "source": [
    "## Arithmetic Operators"
   ]
  },
  {
   "cell_type": "code",
   "execution_count": 4,
   "metadata": {
    "id": "NbKs3o_l_pOm"
   },
   "outputs": [
    {
     "name": "stdout",
     "output_type": "stream",
     "text": [
      "13\n",
      "7\n",
      "30\n",
      "3.3333333333333335\n",
      "1\n",
      "1000\n",
      "3\n"
     ]
    }
   ],
   "source": [
    "x = 10\n",
    "y = 3\n",
    "\n",
    "addition = x + y       # Result: 13\n",
    "subtraction = x - y    # Result: 7\n",
    "multiplication = x * y # Result: 30\n",
    "division = x / y       # Result: 3.3333...\n",
    "modulo = x % y         # Result: 1\n",
    "exponentiation = x ** y# Result: 1000\n",
    "floor_division = x // y# Result: 3\n",
    "\n",
    "print(addition)\n",
    "print(subtraction)\n",
    "print(multiplication)\n",
    "print(division)\n",
    "print(modulo)\n",
    "print(exponentiation)\n",
    "print(floor_division)"
   ]
  },
  {
   "cell_type": "markdown",
   "metadata": {
    "id": "H8TrKuOKAJ-9"
   },
   "source": [
    "## Comparison Operators (Task 1: Print the results of the comparison operators)"
   ]
  },
  {
   "cell_type": "code",
   "execution_count": 34,
   "metadata": {
    "id": "DvNQB2bnAJJd"
   },
   "outputs": [
    {
     "name": "stdout",
     "output_type": "stream",
     "text": [
      "x and y are equal:  False\n",
      "x and y are not equal:  True\n",
      "x is greater than y:  True\n",
      "x is less than y:  False\n",
      "x is greater than or equal to y:  True\n",
      "x is less than or equal to y:  False\n"
     ]
    }
   ],
   "source": [
    "x = 10\n",
    "y = 7\n",
    "\n",
    "equal = (x == y)         # Result: False\n",
    "not_equal = (x != y)     # Result: True\n",
    "greater_than = (x > y)   # Result: True\n",
    "less_than = (x < y)      # Result: False\n",
    "greater_or_equal = (x >= y)  # Result: True\n",
    "less_or_equal = (x <= y)     # Result: False\n",
    "\n",
    "print(\"x and y are equal: \",equal)\n",
    "print(\"x and y are not equal: \",not_equal)\n",
    "print(\"x is greater than y: \",greater_than)\n",
    "print(\"x is less than y: \",less_than)\n",
    "print(\"x is greater than or equal to y: \",greater_or_equal)\n",
    "print(\"x is less than or equal to y: \",less_or_equal)"
   ]
  },
  {
   "cell_type": "markdown",
   "metadata": {
    "id": "OWQEOhHdAhCc"
   },
   "source": [
    "## Logical Operators (Task 2: Print the results of the comparison operators)"
   ]
  },
  {
   "cell_type": "code",
   "execution_count": 22,
   "metadata": {
    "id": "vPCqWcjEAj8k"
   },
   "outputs": [
    {
     "name": "stdout",
     "output_type": "stream",
     "text": [
      "False\n",
      "True\n",
      "False\n"
     ]
    }
   ],
   "source": [
    "x = True\n",
    "y = False\n",
    "\n",
    "and_operation = x and y    # Result: False\n",
    "or_operation = x or y      # Result: True\n",
    "\n",
    "not_operation = not x      # Result: False\n",
    "\n",
    "\n",
    "print(and_operation)\n",
    "print(or_operation)\n",
    "print(not_operation)"
   ]
  },
  {
   "cell_type": "markdown",
   "metadata": {
    "id": "exwd921jAyTt"
   },
   "source": [
    "## if-elif-else"
   ]
  },
  {
   "cell_type": "code",
   "execution_count": 32,
   "metadata": {
    "id": "PGR9E44-A2RU"
   },
   "outputs": [
    {
     "name": "stdout",
     "output_type": "stream",
     "text": [
      "warm\n"
     ]
    }
   ],
   "source": [
    "temperature = 20\n",
    "\n",
    "if temperature < 0:\n",
    "    status = \"freezing\"\n",
    "elif temperature < 20:\n",
    "    status = \"cool\"\n",
    "else:\n",
    "    status = \"warm\"\n",
    "\n",
    "print(status)"
   ]
  },
  {
   "cell_type": "markdown",
   "metadata": {
    "id": "herOICsEA_nk"
   },
   "source": [
    "## Nested if statements"
   ]
  },
  {
   "cell_type": "code",
   "execution_count": 27,
   "metadata": {
    "id": "lmMCTmocBEnl"
   },
   "outputs": [
    {
     "name": "stdout",
     "output_type": "stream",
     "text": [
      "Not eligible to vote in the US\n"
     ]
    }
   ],
   "source": [
    "age = 24\n",
    "citizenship = \"Aus\"\n",
    "\n",
    "if age > 21:\n",
    "    if citizenship == \"US\":\n",
    "        status = \"Eligible to vote in the US\"\n",
    "    else:\n",
    "        status = \"Not eligible to vote in the US\"\n",
    "else:\n",
    "    status = \"Too young to vote\"\n",
    "\n",
    "print(status)"
   ]
  },
  {
   "cell_type": "markdown",
   "metadata": {
    "id": "b6mcrRcJBLSl"
   },
   "source": [
    "## for Loop"
   ]
  },
  {
   "cell_type": "code",
   "execution_count": 36,
   "metadata": {
    "id": "mKD_1VNmBOx8"
   },
   "outputs": [
    {
     "name": "stdout",
     "output_type": "stream",
     "text": [
      "apple\n",
      "banana\n",
      "cherry\n",
      "0\n",
      "1\n",
      "2\n"
     ]
    }
   ],
   "source": [
    "# Iterating over a list\n",
    "fruits = [\"apple\", \"banana\", \"cherry\"]\n",
    "for fruit in fruits:\n",
    "    print(fruit)\n",
    "\n",
    "# Iterating over a range\n",
    "for i in range(3):\n",
    "    print(i)\n"
   ]
  },
  {
   "cell_type": "markdown",
   "metadata": {
    "id": "e3KJpOriBWjd"
   },
   "source": [
    "## while Loop"
   ]
  },
  {
   "cell_type": "code",
   "execution_count": 38,
   "metadata": {
    "id": "ZY2bJZgbBVWN"
   },
   "outputs": [
    {
     "name": "stdout",
     "output_type": "stream",
     "text": [
      "0\n",
      "1\n",
      "2\n"
     ]
    }
   ],
   "source": [
    "count = 0\n",
    "\n",
    "while count < 3:\n",
    "    print(count)\n",
    "    count += 1\n"
   ]
  },
  {
   "cell_type": "markdown",
   "metadata": {
    "id": "ak8homcgBda9"
   },
   "source": [
    "## Break and Continue Statements"
   ]
  },
  {
   "cell_type": "code",
   "execution_count": 40,
   "metadata": {
    "id": "42z439vJBc2N"
   },
   "outputs": [
    {
     "name": "stdout",
     "output_type": "stream",
     "text": [
      "0\n",
      "1\n",
      "2\n"
     ]
    }
   ],
   "source": [
    "for i in range(5):\n",
    "    if i == 3:\n",
    "        break\n",
    "    print(i)\n"
   ]
  },
  {
   "cell_type": "code",
   "execution_count": 41,
   "metadata": {
    "id": "wLpm0-7XBlik"
   },
   "outputs": [
    {
     "name": "stdout",
     "output_type": "stream",
     "text": [
      "0\n",
      "1\n",
      "3\n",
      "4\n"
     ]
    }
   ],
   "source": [
    "for i in range(5):\n",
    "    if i == 2:\n",
    "        continue\n",
    "    print(i)\n"
   ]
  },
  {
   "cell_type": "markdown",
   "metadata": {
    "id": "VGTUeUAbB86s"
   },
   "source": [
    "## Nested for Loop"
   ]
  },
  {
   "cell_type": "code",
   "execution_count": 46,
   "metadata": {
    "id": "yF6ehoIUB-0s"
   },
   "outputs": [
    {
     "name": "stdout",
     "output_type": "stream",
     "text": [
      "(i, j) = (0, 0)\n",
      "(i, j) = (0, 1)\n",
      "(i, j) = (0, 2)\n",
      "(i, j) = (1, 0)\n",
      "(i, j) = (1, 1)\n",
      "(i, j) = (1, 2)\n"
     ]
    }
   ],
   "source": [
    "for i in range(2):\n",
    "    for j in range(3):\n",
    "        print(f\"(i, j) = ({i}, {j})\")\n"
   ]
  },
  {
   "cell_type": "markdown",
   "metadata": {
    "id": "04dPs4RrCF4M"
   },
   "source": [
    "## Ternary Expressions"
   ]
  },
  {
   "cell_type": "code",
   "execution_count": 44,
   "metadata": {
    "id": "JM_ImnylCDkU"
   },
   "outputs": [
    {
     "name": "stdout",
     "output_type": "stream",
     "text": [
      "minor\n"
     ]
    }
   ],
   "source": [
    "age = 17\n",
    "status = \"adult\" if age >= 18 else \"minor\"\n",
    "print(status)"
   ]
  },
  {
   "cell_type": "code",
   "execution_count": null,
   "metadata": {},
   "outputs": [],
   "source": []
  },
  {
   "cell_type": "markdown",
   "metadata": {},
   "source": [
    "## Implement a simple age categorization system.\n",
    "\n"
   ]
  },
  {
   "cell_type": "code",
   "execution_count": 31,
   "metadata": {},
   "outputs": [
    {
     "name": "stdout",
     "output_type": "stream",
     "text": [
      "adult\n"
     ]
    }
   ],
   "source": [
    "age = 18\n",
    "\n",
    "if age < 13:\n",
    "\n",
    "    category = \"child\"\n",
    "\n",
    "elif age < 18:\n",
    "\n",
    "    category = \"teenager\"\n",
    "\n",
    "else:\n",
    "\n",
    "    category = \"adult\"\n",
    "\n",
    "print(category)"
   ]
  },
  {
   "cell_type": "markdown",
   "metadata": {},
   "source": [
    "## Implement a loop to calculate the sum of first 'n' numbers.\n",
    "\n"
   ]
  },
  {
   "cell_type": "code",
   "execution_count": 37,
   "metadata": {},
   "outputs": [
    {
     "name": "stdout",
     "output_type": "stream",
     "text": [
      "15\n"
     ]
    }
   ],
   "source": [
    "n = 5\n",
    "\n",
    "sum = 0\n",
    "\n",
    "for i in range(1, n+1):\n",
    "\n",
    "    sum += i\n",
    "\n",
    "print(sum)"
   ]
  },
  {
   "cell_type": "markdown",
   "metadata": {},
   "source": [
    "## Construct a loop to count even numbers up to a limit."
   ]
  },
  {
   "cell_type": "code",
   "execution_count": 39,
   "metadata": {},
   "outputs": [
    {
     "name": "stdout",
     "output_type": "stream",
     "text": [
      "0\n",
      "2\n",
      "4\n",
      "6\n",
      "8\n",
      "10\n"
     ]
    }
   ],
   "source": [
    "limit = 10\n",
    "\n",
    "number = 0\n",
    "\n",
    "while True:\n",
    "\n",
    "    if number > limit:\n",
    "\n",
    "        break\n",
    "\n",
    "    if number % 2 == 0:\n",
    "\n",
    "        print(number)\n",
    "\n",
    "    number += 1"
   ]
  }
 ],
 "metadata": {
  "colab": {
   "provenance": []
  },
  "kernelspec": {
   "display_name": "Python 3",
   "language": "python",
   "name": "python3"
  },
  "language_info": {
   "codemirror_mode": {
    "name": "ipython",
    "version": 3
   },
   "file_extension": ".py",
   "mimetype": "text/x-python",
   "name": "python",
   "nbconvert_exporter": "python",
   "pygments_lexer": "ipython3",
   "version": "3.7.6"
  },
  "vscode": {
   "interpreter": {
    "hash": "b0fa6594d8f4cbf19f97940f81e996739fb7646882a419484c72d19e05852a7e"
   }
  }
 },
 "nbformat": 4,
 "nbformat_minor": 1
}
